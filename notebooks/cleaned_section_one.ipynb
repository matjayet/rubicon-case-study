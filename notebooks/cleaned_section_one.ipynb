{
 "cells": [
  {
   "cell_type": "markdown",
   "metadata": {},
   "source": [
    "## Section One: GeoSpatial Data Processing\n",
    "\n",
    "In this section, you will implement a pipeline to generate a time series of vegetation indices for a\n",
    "given Area of Interest (AOI). The vegetation indices we will be looking at are the NDWI and the\n",
    "MSI.\n",
    "\n",
    "\n",
    "#### Objective:\n",
    "Given:\n",
    "- An AOI (given as GeoJSON).\n",
    "- A vegetation index.\n",
    "- A start and end date.\n",
    "\n",
    "You must produce a **GeoTIFF file**, where:\n",
    "- Each band corresponds to the selected vegetation index computed at a specific\n",
    "acquisition date within the requested date range.\n",
    "- The output GeoTIFF should have the same CRS as the input GeoJSON.\n",
    "\n",
    "\n",
    "#### Requirements:\n",
    "- We advise using Sentinel-2, but Landsat will also be accepted. **Important**: Clearly\n",
    "explain your choice of data **preprocessing level** (e.g., Level-1C, Level-2A for\n",
    "Sentinel-2, or L1/L2 for Landsat).\n",
    "- You are free to choose the API, library, or provider you want. **Important**: Explain your\n",
    "choice of API/provider and discuss its advantages and drawbacks.\n",
    "- You are not expected to submit the generated GeoTIFFs. We will test your code by\n",
    "running it against different AOIs and date ranges.\n"
   ]
  },
  {
   "cell_type": "markdown",
   "metadata": {},
   "source": []
  },
  {
   "cell_type": "code",
   "execution_count": 2,
   "metadata": {},
   "outputs": [],
   "source": [
    "from datetime import datetime\n",
    "import json"
   ]
  },
  {
   "cell_type": "markdown",
   "metadata": {},
   "source": [
    "## Which preprocessing level to use ?\n",
    "\n",
    "I have chosen to use Sentinel-2 L2A level. From what I understand it is L1C data which is processed to ???. It is well adapted for our section 1 task which is to retrieve vegetation indexes as well as for section 2 and 3 land segmentation.\n",
    "\n",
    "L1C can be useful for people who need to do their own preprocess of the ??? but it requires an understanding of ???? I don't have. Given the time and goals of this case study L2A fits perfectly.\n",
    "\n",
    "I also got the impression that most datasets/pretrained models available on the internet are from L2A level which seems to be the most common to use with Sentinel 2\n",
    "\n",
    "Sources :\n",
    "\n",
    "https://gis.stackexchange.com/questions/385975/should-i-always-choose-sentinel-2-atmospheric-corrected-imagery\n",
    "\n",
    "https://forum.step.esa.int/t/clarification-on-difference-between-l1c-and-l2a-data/24940/6"
   ]
  },
  {
   "cell_type": "markdown",
   "metadata": {},
   "source": [
    "## Which API/provider to use\n",
    "\n",
    "I have chosen sentinel hub which seems to be a very common API. It has a python libray and a corresponding interface on the internet (EO browser) which is very useful to rapidly display examples, understand how it works and compare/verify the outputs of our script. It seems to be similar to the official ESA portal (Copernicus Open Access Hub, SciHub) but apparently it is faster and more adapted for developers.\n",
    "\n",
    "Others : \n",
    "- Google Earth Engine\n",
    "- Planetary Computer"
   ]
  },
  {
   "cell_type": "markdown",
   "metadata": {},
   "source": [
    "**API sentinelhub**\n",
    "\n",
    "https://docs.sentinel-hub.com/api/latest/data/\n",
    "\n",
    "https://sentinelhub-py.readthedocs.io/en/latest/examples/data_collections.html\n",
    "\n",
    "https://sentiwiki.copernicus.eu/web/s2-applications"
   ]
  },
  {
   "cell_type": "markdown",
   "metadata": {},
   "source": [
    "### Définition des paramètres"
   ]
  },
  {
   "cell_type": "code",
   "execution_count": 3,
   "metadata": {},
   "outputs": [],
   "source": [
    "start_date = datetime(2023, 8, 30).strftime(\"%Y-%m-%d\")\n",
    "end_date = datetime(2023, 9, 30).strftime(\"%Y-%m-%d\")\n",
    "cloud_cover_limit = 20\n",
    "\n",
    "#Choose from nvdi, evi, gndvi, ndre, savi, arvi\n",
    "vegetation_index = 'nvdi'\n",
    "\n",
    "AOI_path = '../AOI_Rubicon.geojson'\n",
    "with open(AOI_path, 'r') as file:\n",
    "    geojson_data = json.load(file)[\"features\"][0][\"geometry\"]\n"
   ]
  },
  {
   "cell_type": "markdown",
   "metadata": {},
   "source": [
    "### Génération du fichier geotiff pour l'index de végétation voulou"
   ]
  },
  {
   "cell_type": "code",
   "execution_count": 3,
   "metadata": {},
   "outputs": [
    {
     "name": "stderr",
     "output_type": "stream",
     "text": [
      "/home/mathieujayet/.pyenv/versions/rubicon/lib/python3.10/site-packages/tqdm/auto.py:21: TqdmWarning: IProgress not found. Please update jupyter and ipywidgets. See https://ipywidgets.readthedocs.io/en/stable/user_install.html\n",
      "  from .autonotebook import tqdm as notebook_tqdm\n",
      "/home/mathieujayet/code/matjayet/rubicon/rubicon-case-study/src/rubicon_cs/main.py:68: SHDeprecationWarning: The string representation of `BBox` will change to match its `repr` representation.\n",
      "  print(f\"Bounding Box: {bounds}\")\n"
     ]
    },
    {
     "name": "stdout",
     "output_type": "stream",
     "text": [
      "Bounding Box: 5.429163466084987,45.50223271109695,7.127353602241698,46.13806674872461\n"
     ]
    }
   ],
   "source": [
    "from rubicon_cs.main import geotiff_for_veg_index\n",
    "\n",
    "#Do not forget to update your .env file with client id and secret for sentinel hub (see .env.example file)\n",
    "geotiff_for_veg_index(AOI=geojson_data, date_range=(start_date, end_date), veg_index=vegetation_index, cloud_cover_limit=cloud_cover_limit)"
   ]
  },
  {
   "cell_type": "markdown",
   "metadata": {},
   "source": [
    "### Affichage du geotiff"
   ]
  },
  {
   "cell_type": "code",
   "execution_count": null,
   "metadata": {},
   "outputs": [],
   "source": [
    "from rubicon_cs.utils import display_geotiff\n",
    "\n",
    "display_geotiff(f'{start_date}_{end_date}_{vegetation_index}.tif', ncols=1, cmap='Greens')"
   ]
  },
  {
   "cell_type": "code",
   "execution_count": null,
   "metadata": {},
   "outputs": [],
   "source": []
  }
 ],
 "metadata": {
  "kernelspec": {
   "display_name": "rubicon",
   "language": "python",
   "name": "python3"
  },
  "language_info": {
   "codemirror_mode": {
    "name": "ipython",
    "version": 3
   },
   "file_extension": ".py",
   "mimetype": "text/x-python",
   "name": "python",
   "nbconvert_exporter": "python",
   "pygments_lexer": "ipython3",
   "version": "3.10.12"
  }
 },
 "nbformat": 4,
 "nbformat_minor": 2
}
